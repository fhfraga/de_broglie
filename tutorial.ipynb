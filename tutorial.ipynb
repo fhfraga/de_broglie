{
 "cells": [
  {
   "cell_type": "markdown",
   "metadata": {},
   "source": [
    "# De Broglie e ondas de matéria\n",
    "\n",
    "Em mecânica quântica, uma onda de matéria ou onda de De Broglie é a onda (dualidade onda-partícula) de matéria. As relações de De Broglie mostram que o comprimento de onda é inversamente proporcional ao momento linear da partícula e que a frequência é diretamente proporcional à energia cinética da partícula. O comprimento de onda de matéria é também chamado comprimento de onda de De Broglie.\n",
    "\n",
    "Em 1924, em sua tese de doutorado, o físico francês, Louis de Broglie (1892-1987), formulou uma hipótese na qual afirmava que:\n",
    "\n",
    "> Toda a matéria apresenta características tanto ondulatórias como corpusculares comportando-se de um ou outro modo dependendo do experimento específico.\n",
    "\n",
    "$$\n",
    "\\lambda = \\frac{h}{p} = \\frac{h}{mv}\n",
    "$$\n",
    "\n",
    "[Wikipedia](https://en.wikipedia.org/wiki/Matter_wave)"
   ]
  },
  {
   "cell_type": "markdown",
   "metadata": {},
   "source": [
    "Aqui iremos mostrar um pequeno módulo feito em Python que calcula o comprimento da onda associada a um corpo de massa `m` e velocidade `v` assim como a energia de tal comprimento de onda. Também classifica o comprimento de onda com base nas regiões do espectro eletromagnético (classificação com base na ISO 21348).\n",
    "\n",
    "No momento, o único sistema de unidades do módulo, tanto para os valores de entrada quanto para os de saída, é o SI.\n",
    "\n",
    "Caso tenha interesse, o módulo pode ser rodado em linha de comando a partir da pasta raiz do módulo com \n",
    "\n",
    "```bash\n",
    "python core/de_blogie.py\n",
    "```\n",
    "\n"
   ]
  },
  {
   "cell_type": "code",
   "execution_count": 1,
   "metadata": {
    "ExecuteTime": {
     "end_time": "2020-01-06T10:55:46.163608Z",
     "start_time": "2020-01-06T10:55:45.292847Z"
    }
   },
   "outputs": [],
   "source": [
    "# importando o módulo\n",
    "\n",
    "import core.de_broglie"
   ]
  },
  {
   "cell_type": "code",
   "execution_count": 2,
   "metadata": {
    "ExecuteTime": {
     "end_time": "2020-01-06T10:55:46.166772Z",
     "start_time": "2020-01-06T10:55:46.164850Z"
    }
   },
   "outputs": [],
   "source": [
    "# importando as constantes do SciPy para auxiliar nos exemplos\n",
    "\n",
    "from scipy import constants"
   ]
  },
  {
   "cell_type": "markdown",
   "metadata": {},
   "source": [
    "# Exemplo 1 - elétron com 90 % da velocidade da luz"
   ]
  },
  {
   "cell_type": "code",
   "execution_count": 3,
   "metadata": {
    "ExecuteTime": {
     "end_time": "2020-01-06T10:55:46.346584Z",
     "start_time": "2020-01-06T10:55:46.167918Z"
    }
   },
   "outputs": [
    {
     "data": {
      "text/plain": [
       "2.6959002623251337e-12"
      ]
     },
     "execution_count": 3,
     "metadata": {},
     "output_type": "execute_result"
    }
   ],
   "source": [
    "# usando um elétron com 90 % da velocidade da luz\n",
    "\n",
    "lambda_ex1 = core.de_broglie.de_broglie_lambda(constants.m_e, 0.9*constants.c)\n",
    "lambda_ex1"
   ]
  },
  {
   "cell_type": "code",
   "execution_count": 4,
   "metadata": {
    "ExecuteTime": {
     "end_time": "2020-01-06T10:55:46.624427Z",
     "start_time": "2020-01-06T10:55:46.347945Z"
    }
   },
   "outputs": [
    {
     "data": {
      "text/plain": [
       "7.368395084685024e-14"
      ]
     },
     "execution_count": 4,
     "metadata": {},
     "output_type": "execute_result"
    }
   ],
   "source": [
    "# energia de um fóton com esse comprimento de onda\n",
    "\n",
    "e_foton_ex1 = core.de_broglie.energia_de_foton(lambda_ex1)\n",
    "e_foton_ex1"
   ]
  },
  {
   "cell_type": "code",
   "execution_count": 5,
   "metadata": {
    "ExecuteTime": {
     "end_time": "2020-01-06T10:55:46.801962Z",
     "start_time": "2020-01-06T10:55:46.628671Z"
    }
   },
   "outputs": [
    {
     "data": {
      "text/plain": [
       "44373513089.99966"
      ]
     },
     "execution_count": 5,
     "metadata": {},
     "output_type": "execute_result"
    }
   ],
   "source": [
    "# energia de um mol de fótons com esse comprimento de onda\n",
    "\n",
    "e_mol_foton_ex1 = core.de_broglie.energia_de_foton_mol(lambda_ex1)\n",
    "e_mol_foton_ex1"
   ]
  },
  {
   "cell_type": "code",
   "execution_count": 6,
   "metadata": {
    "ExecuteTime": {
     "end_time": "2020-01-06T10:55:47.018226Z",
     "start_time": "2020-01-06T10:55:46.806020Z"
    }
   },
   "outputs": [
    {
     "name": "stdout",
     "output_type": "stream",
     "text": [
      "+--------------------+-----------+-------------+\n",
      "|       Class        |  Acronym  |  Subclass   |\n",
      "|--------------------+-----------+-------------|\n",
      "| Ionizing radiation |    HX     | Hard X-rays |\n",
      "+--------------------+-----------+-------------+\n"
     ]
    }
   ],
   "source": [
    "# região do espectro eletromagnético para esse comprimento de onda\n",
    "\n",
    "print(core.de_broglie.espectro_eletromagnetico(lambda_ex1))"
   ]
  },
  {
   "cell_type": "code",
   "execution_count": null,
   "metadata": {},
   "outputs": [],
   "source": []
  },
  {
   "cell_type": "code",
   "execution_count": null,
   "metadata": {},
   "outputs": [],
   "source": []
  },
  {
   "cell_type": "markdown",
   "metadata": {},
   "source": [
    "# Exemplo 2 - elétron com 40 % da velocidade da luz"
   ]
  },
  {
   "cell_type": "code",
   "execution_count": 7,
   "metadata": {
    "ExecuteTime": {
     "end_time": "2020-01-06T10:55:47.161088Z",
     "start_time": "2020-01-06T10:55:47.022973Z"
    }
   },
   "outputs": [
    {
     "data": {
      "text/plain": [
       "2.4263102360926198e-08"
      ]
     },
     "execution_count": 7,
     "metadata": {},
     "output_type": "execute_result"
    }
   ],
   "source": [
    "# usando um elétron com 0.010 % da velocidade da luz\n",
    "\n",
    "lambda_ex2 = core.de_broglie.de_broglie_lambda(constants.m_e, 0.0001*constants.c)\n",
    "lambda_ex2"
   ]
  },
  {
   "cell_type": "code",
   "execution_count": 8,
   "metadata": {
    "ExecuteTime": {
     "end_time": "2020-01-06T10:55:47.370020Z",
     "start_time": "2020-01-06T10:55:47.170992Z"
    }
   },
   "outputs": [
    {
     "data": {
      "text/plain": [
       "8.187105649650029e-18"
      ]
     },
     "execution_count": 8,
     "metadata": {},
     "output_type": "execute_result"
    }
   ],
   "source": [
    "# energia de um fóton com esse comprimento de onda\n",
    "\n",
    "e_foton_ex2 = core.de_broglie.energia_de_foton(lambda_ex2)\n",
    "e_foton_ex2"
   ]
  },
  {
   "cell_type": "code",
   "execution_count": 9,
   "metadata": {
    "ExecuteTime": {
     "end_time": "2020-01-06T10:55:47.564466Z",
     "start_time": "2020-01-06T10:55:47.376295Z"
    }
   },
   "outputs": [
    {
     "data": {
      "text/plain": [
       "4930390.3433332965"
      ]
     },
     "execution_count": 9,
     "metadata": {},
     "output_type": "execute_result"
    }
   ],
   "source": [
    "# energia de um mol de fótons com esse comprimento de onda\n",
    "\n",
    "e_mol_foton_ex2 = core.de_broglie.energia_de_foton_mol(lambda_ex2)\n",
    "e_mol_foton_ex2"
   ]
  },
  {
   "cell_type": "code",
   "execution_count": 10,
   "metadata": {
    "ExecuteTime": {
     "end_time": "2020-01-06T10:55:47.748121Z",
     "start_time": "2020-01-06T10:55:47.570379Z"
    }
   },
   "outputs": [
    {
     "name": "stdout",
     "output_type": "stream",
     "text": [
      "+-------------+-----------+---------------------+\n",
      "|    Class    |  Acronym  |      Subclass       |\n",
      "|-------------+-----------+---------------------|\n",
      "| Ultraviolet |    VUV    | Vacuum ultraviolet  |\n",
      "| Ultraviolet |    EUV    | Extreme ultraviolet |\n",
      "+-------------+-----------+---------------------+\n"
     ]
    }
   ],
   "source": [
    "# região do espectro eletromagnético para esse comprimento de onda\n",
    "\n",
    "print(core.de_broglie.espectro_eletromagnetico(lambda_ex2))"
   ]
  },
  {
   "cell_type": "code",
   "execution_count": null,
   "metadata": {},
   "outputs": [],
   "source": []
  },
  {
   "cell_type": "code",
   "execution_count": null,
   "metadata": {},
   "outputs": [],
   "source": []
  },
  {
   "cell_type": "markdown",
   "metadata": {},
   "source": [
    "# Exemplo 3 - Usain Bolt"
   ]
  },
  {
   "cell_type": "markdown",
   "metadata": {},
   "source": [
    "De acordo com a [Wikipedia](https://pt.wikipedia.org/wiki/Usain_Bolt), Usain Bolt tem 86 kg e correu 100 m em 9,58 s em 2009. Assim, sua velocidade média, em metro por segundo, foi:"
   ]
  },
  {
   "cell_type": "code",
   "execution_count": 11,
   "metadata": {
    "ExecuteTime": {
     "end_time": "2020-01-06T10:55:47.923254Z",
     "start_time": "2020-01-06T10:55:47.749395Z"
    }
   },
   "outputs": [
    {
     "data": {
      "text/plain": [
       "10.438413361169102"
      ]
     },
     "execution_count": 11,
     "metadata": {},
     "output_type": "execute_result"
    }
   ],
   "source": [
    "velocidade_bolt = 100 / 9.58\n",
    "velocidade_bolt"
   ]
  },
  {
   "cell_type": "code",
   "execution_count": 12,
   "metadata": {
    "ExecuteTime": {
     "end_time": "2020-01-06T10:55:48.108134Z",
     "start_time": "2020-01-06T10:55:47.927822Z"
    }
   },
   "outputs": [
    {
     "data": {
      "text/plain": [
       "7.381133835255814e-37"
      ]
     },
     "execution_count": 12,
     "metadata": {},
     "output_type": "execute_result"
    }
   ],
   "source": [
    "# comprimento de onda associado\n",
    "\n",
    "lambda_ex3 = core.de_broglie.de_broglie_lambda(86, velocidade_bolt)\n",
    "lambda_ex3"
   ]
  },
  {
   "cell_type": "markdown",
   "metadata": {},
   "source": [
    "Repare que tal comprimento de onda é muito pequeno, virtualmente imensurável. Dessa forma, usualmente se considera que objetos macroscópicos não possuem comprimento de onda associado e estão fora do escopo da equação de De Broglie. Uma discussão mais aprofundada, abordando outros aspectos que dificultam a detecção de ondas de matéria em objetos macroscópicos, e com links para estudo se encontra [aqui](https://physics.stackexchange.com/questions/57390/validity-of-naively-computing-the-de-broglie-wavelength-of-a-macroscopic-object)."
   ]
  }
 ],
 "metadata": {
  "hide_input": false,
  "kernelspec": {
   "display_name": "Python 3",
   "language": "python",
   "name": "python3"
  },
  "language_info": {
   "codemirror_mode": {
    "name": "ipython",
    "version": 3
   },
   "file_extension": ".py",
   "mimetype": "text/x-python",
   "name": "python",
   "nbconvert_exporter": "python",
   "pygments_lexer": "ipython3",
   "version": "3.7.5"
  },
  "toc": {
   "base_numbering": 1,
   "nav_menu": {},
   "number_sections": true,
   "sideBar": true,
   "skip_h1_title": false,
   "title_cell": "Table of Contents",
   "title_sidebar": "Contents",
   "toc_cell": false,
   "toc_position": {},
   "toc_section_display": true,
   "toc_window_display": false
  },
  "varInspector": {
   "cols": {
    "lenName": 16,
    "lenType": 16,
    "lenVar": 40
   },
   "kernels_config": {
    "python": {
     "delete_cmd_postfix": "",
     "delete_cmd_prefix": "del ",
     "library": "var_list.py",
     "varRefreshCmd": "print(var_dic_list())"
    },
    "r": {
     "delete_cmd_postfix": ") ",
     "delete_cmd_prefix": "rm(",
     "library": "var_list.r",
     "varRefreshCmd": "cat(var_dic_list()) "
    }
   },
   "types_to_exclude": [
    "module",
    "function",
    "builtin_function_or_method",
    "instance",
    "_Feature"
   ],
   "window_display": false
  }
 },
 "nbformat": 4,
 "nbformat_minor": 2
}